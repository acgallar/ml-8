{
 "cells": [
  {
   "cell_type": "markdown",
   "metadata": {},
   "source": [
    "# Actividad 8 - Random Forest\n",
    "### Desafío 1: Preparación del ambiente de trabajo\n",
    "- Importe las librerías clásicas a utilizar.\n",
    "- Para este ejercicio Random Forest de Regresión\n",
    "- De manera adicional importe las funciones y clases necesarias para generar un desempeño de métricas en problemas de regresión.\n",
    "- Elimine la columna 'Unnamed: 0' cuando cargue los datos."
   ]
  },
  {
   "cell_type": "code",
   "execution_count": 2,
   "metadata": {},
   "outputs": [],
   "source": [
    "import pandas as pd\n",
    "import numpy as np\n",
    "import matplotlib.pyplot as plt\n",
    "import seaborn as sns"
   ]
  },
  {
   "cell_type": "code",
   "execution_count": 3,
   "metadata": {},
   "outputs": [],
   "source": [
    "from sklearn.model_selection import train_test_split\n",
    "from sklearn.ensemble import RandomForestRegressor\n",
    "from sklearn.metrics import mean_squared_error, median_absolute_error, r2_score\n",
    "import pickle"
   ]
  },
  {
   "cell_type": "code",
   "execution_count": 4,
   "metadata": {},
   "outputs": [],
   "source": [
    "seed = 602\n",
    "p_muestra = 0.3"
   ]
  },
  {
   "cell_type": "code",
   "execution_count": 5,
   "metadata": {},
   "outputs": [],
   "source": [
    "df = pd.read_csv('ames_housing.csv').drop(columns='Unnamed: 0')\n",
    "for colname, serie in df.iteritems():    \n",
    "    if(serie.dtype == 'object'):\n",
    "        df = pd.concat([df, pd.get_dummies(serie, drop_first=True, prefix=colname)], axis=1).drop(columns=colname)"
   ]
  },
  {
   "cell_type": "markdown",
   "metadata": {},
   "source": [
    "### Desafío 2: Importación de archivos serializados\n",
    "- Importe su modelo entrenado y sus conjuntos de entrenamiento y validación serializados la sesión pasada y evalúe el desempeño del modelo de su compañero con el suyo ¿Cuál es mejor? Si no puede ejecutar el modelo, comente cuáles pueden ser los causantes.\n",
    "- No es necesario que realice diagnósticos gráficos sobre el modelo, sólo reporte sus métricas.\n",
    "- Para importar un archivo serializado, puede ocupar la siguiente línea de código:"
   ]
  },
  {
   "cell_type": "code",
   "execution_count": 6,
   "metadata": {},
   "outputs": [],
   "source": [
    "X_train, X_test, y_train, y_test = train_test_split(df.drop(columns=['Sale_Price']), df['Sale_Price'], test_size=p_muestra, random_state=seed)"
   ]
  },
  {
   "cell_type": "code",
   "execution_count": 7,
   "metadata": {},
   "outputs": [],
   "source": [
    "modelo_ag7 = pickle.load(open('./andres/andres-gallardo-actividad07.sav','rb'))\n",
    "X_test_ag = pickle.load(open('./andres/X_test-andres-gallardo-actividad07.sav','rb'))\n",
    "y_test_ag = pickle.load(open('./andres/y_test-andres-gallardo-actividad07.sav','rb'))\n",
    "X_train_ag = pickle.load(open('./andres/X_train-andres-gallardo-actividad07.sav','rb'))\n",
    "y_train_ag = pickle.load(open('./andres/y_train-andres-gallardo-actividad07.sav','rb'))"
   ]
  },
  {
   "cell_type": "code",
   "execution_count": 8,
   "metadata": {},
   "outputs": [],
   "source": [
    "modelo_cf7 = pickle.load(open('./cristian/CristianFarias-actividad07.sav','rb'))\n",
    "X_test_cf = pickle.load(open('./cristian/CF-act07-X_test_top.sav','rb'))\n",
    "y_test_cf = pickle.load(open('./cristian/CF-act07-y_test_top.sav','rb'))"
   ]
  },
  {
   "cell_type": "markdown",
   "metadata": {},
   "source": [
    "Creamos nuevas dataframe de test a partir de una nueva división de la muestra común. Generamos el X_test dependiendo de los atributos utilizados en cada modelo"
   ]
  },
  {
   "cell_type": "code",
   "execution_count": 9,
   "metadata": {},
   "outputs": [],
   "source": [
    "\n",
    "X_test_ag2 = X_test[X_test_ag.columns]\n",
    "X_test_cf2 = X_test[X_test_cf.columns]\n"
   ]
  },
  {
   "cell_type": "code",
   "execution_count": 10,
   "metadata": {},
   "outputs": [
    {
     "name": "stdout",
     "output_type": "stream",
     "text": [
      "Test MSE: 1548898181.47057\n",
      "Test MAE: 17925.42308\n",
      "Test R2: 0.78255\n"
     ]
    }
   ],
   "source": [
    "#Calculamos Métricas de mi Modelo\n",
    "print(\"Test MSE:\", mean_squared_error(y_test, modelo_ag7.predict(X_test_ag2)).round(5))\n",
    "print(\"Test MAE:\", median_absolute_error(y_test, modelo_ag7.predict(X_test_ag2)).round(5))\n",
    "print(\"Test R2:\", r2_score(y_test, modelo_ag7.predict(X_test_ag2)).round(5))"
   ]
  },
  {
   "cell_type": "code",
   "execution_count": 11,
   "metadata": {},
   "outputs": [
    {
     "name": "stdout",
     "output_type": "stream",
     "text": [
      "Test MSE: 618723643.36151\n",
      "Test MAE: 11946.52778\n",
      "Test R2: 0.91314\n"
     ]
    }
   ],
   "source": [
    "#Calculamos Métricas de Cristian\n",
    "print(\"Test MSE:\", mean_squared_error(y_test, modelo_cf7.predict(X_test_cf2)).round(5))\n",
    "print(\"Test MAE:\", median_absolute_error(y_test, modelo_cf7.predict(X_test_cf2)).round(5))\n",
    "print(\"Test R2:\", r2_score(y_test, modelo_cf7.predict(X_test_cf2)).round(5))"
   ]
  },
  {
   "cell_type": "markdown",
   "metadata": {},
   "source": [
    "- El modelo de mi compañero es mejor que el mio"
   ]
  },
  {
   "cell_type": "markdown",
   "metadata": {},
   "source": [
    "### Desafío 3: Evaluación Random Forest\n",
    "- En base a los conjuntos de entrenamiento serializados, genere un modelo utilizando sklearn.ensemble.RandomForest sin modificar hiperparámetros, sólo declarando la semilla pseudoaleatoria.\n",
    "- Reporte su desempeño y compárelo con su modelo de la sesión pasada, así como con el de su compañero."
   ]
  },
  {
   "cell_type": "code",
   "execution_count": 12,
   "metadata": {},
   "outputs": [
    {
     "name": "stderr",
     "output_type": "stream",
     "text": [
      "/Users/andres/anaconda3/lib/python3.6/site-packages/sklearn/ensemble/forest.py:246: FutureWarning: The default value of n_estimators will change from 10 in version 0.20 to 100 in 0.22.\n",
      "  \"10 in version 0.20 to 100 in 0.22.\", FutureWarning)\n"
     ]
    }
   ],
   "source": [
    "modelo_rf = RandomForestRegressor(random_state=seed).fit(X_train_ag, y_train_ag)"
   ]
  },
  {
   "cell_type": "code",
   "execution_count": 13,
   "metadata": {},
   "outputs": [
    {
     "name": "stdout",
     "output_type": "stream",
     "text": [
      "Test MSE: 1738445711.47345\n",
      "Test MAE: 17488.2\n",
      "Test R2: 0.76201\n"
     ]
    }
   ],
   "source": [
    "print(\"Test MSE:\", mean_squared_error(y_test_ag, modelo_rf.predict(X_test_ag)).round(5))\n",
    "print(\"Test MAE:\", median_absolute_error(y_test_ag, modelo_rf.predict(X_test_ag)).round(5))\n",
    "print(\"Test R2:\", r2_score(y_test_ag, modelo_rf.predict(X_test_ag)).round(5))"
   ]
  },
  {
   "cell_type": "markdown",
   "metadata": {},
   "source": [
    "- El modelo de mi compañero sigue siendo el mejor modelo"
   ]
  },
  {
   "cell_type": "markdown",
   "metadata": {},
   "source": [
    "### Desafío 4: Reporte las métricas de desempeño con los siguientes hiperparámetros\n",
    "- Para afinar el comportamiento de nuestro modelo, evalúe su desempeño los siguientes hiperparámetros:\n",
    " - max_features : None , log2 , sqrt .\n",
    " - n_estimators : Evaluar entre 20 y 1000 en pasos de 50.\n",
    "- Guarde la tasa de error en la exactitud medida con OOB.\n",
    "- Grafique el comportamiento."
   ]
  },
  {
   "cell_type": "code",
   "execution_count": 14,
   "metadata": {},
   "outputs": [],
   "source": [
    "n_estimatos = range(20, 1000 , 50)\n"
   ]
  },
  {
   "cell_type": "code",
   "execution_count": 15,
   "metadata": {},
   "outputs": [
    {
     "name": "stderr",
     "output_type": "stream",
     "text": [
      "/Users/andres/anaconda3/lib/python3.6/site-packages/sklearn/ensemble/forest.py:732: UserWarning: Some inputs do not have OOB scores. This probably means too few trees were used to compute any reliable oob estimates.\n",
      "  warn(\"Some inputs do not have OOB scores. \"\n",
      "/Users/andres/anaconda3/lib/python3.6/site-packages/sklearn/ensemble/forest.py:732: UserWarning: Some inputs do not have OOB scores. This probably means too few trees were used to compute any reliable oob estimates.\n",
      "  warn(\"Some inputs do not have OOB scores. \"\n",
      "/Users/andres/anaconda3/lib/python3.6/site-packages/sklearn/ensemble/forest.py:732: UserWarning: Some inputs do not have OOB scores. This probably means too few trees were used to compute any reliable oob estimates.\n",
      "  warn(\"Some inputs do not have OOB scores. \"\n"
     ]
    },
    {
     "name": "stdout",
     "output_type": "stream",
     "text": [
      "CPU times: user 3min 18s, sys: 4.01 s, total: 3min 22s\n",
      "Wall time: 3min 30s\n"
     ]
    }
   ],
   "source": [
    "%%time\n",
    "\n",
    "tmp_oob = pd.DataFrame(columns=['None', 'log2', 'sqrt'])\n",
    "error = pd.DataFrame(columns=['None', 'log2', 'sqrt'])\n",
    "oob_none, oob_log2, oob_sqrt = [], [], []\n",
    "mse_none, mse_log2, mse_sqrt = [], [], []\n",
    "\n",
    "for est in n_estimatos:\n",
    "    for mf in [None, 'log2', 'sqrt']:\n",
    "        modelo_rf = RandomForestRegressor(\n",
    "            random_state=seed, \n",
    "            n_estimators= est,\n",
    "            max_features=mf, \n",
    "            oob_score=True,\n",
    "            warm_start=True,\n",
    "        ).fit(X_train_ag, y_train_ag)\n",
    "        \n",
    "        # Estimamos el error en OOB\n",
    "        if(mf == None):\n",
    "            oob_none.append(modelo_rf.oob_score_)\n",
    "            mse_none.append(mean_squared_error(y_test_ag, modelo_rf.predict(X_test_ag)).round(5))\n",
    "        elif (mf == 'log2'):\n",
    "            oob_log2.append(modelo_rf.oob_score_)\n",
    "            mse_log2.append(mean_squared_error(y_test_ag, modelo_rf.predict(X_test_ag)).round(5))\n",
    "        else:\n",
    "            oob_sqrt.append(modelo_rf.oob_score_)\n",
    "            mse_sqrt.append(mean_squared_error(y_test_ag, modelo_rf.predict(X_test_ag)).round(5))\n",
    "   \n"
   ]
  },
  {
   "cell_type": "code",
   "execution_count": 40,
   "metadata": {},
   "outputs": [
    {
     "data": {
      "image/png": "[encoded data removed]",
      "text/plain": [
       "<matplotlib.figure.Figure at 0x1a1828e8d0>"
      ]
     },
     "metadata": {},
     "output_type": "display_data"
    }
   ],
   "source": [
    "plt.figure(figsize=(15,6))\n",
    "plt.subplot(1,2,1)\n",
    "plt.title('Oob')\n",
    "plt.plot(n_estimatos, oob_none, color=\"green\", label=\"None\")\n",
    "plt.plot(n_estimatos, oob_log2, color=\"blue\", label=\"Log2\")\n",
    "plt.plot(n_estimatos, oob_sqrt, color=\"red\", label=\"sqrt\")\n",
    "plt.legend()\n",
    "plt.ylim(0.75, 0.8)\n",
    "\n",
    "plt.subplot(1,2,2)\n",
    "plt.title('MSE')\n",
    "plt.plot(n_estimatos, mse_none, color=\"green\", label=\"None\")\n",
    "plt.plot(n_estimatos, mse_log2, color=\"blue\", label=\"Log2\")\n",
    "plt.plot(n_estimatos, mse_sqrt, color=\"red\", label=\"sqrt\")\n",
    "plt.legend()\n",
    "plt.ylim(1.55e9, 1.75e9);\n",
    "\n"
   ]
  },
  {
   "cell_type": "markdown",
   "metadata": {},
   "source": [
    "### Desafío 5: Refactorice el modelo\n",
    "- En base a la mejor combinación de hiperparámetros, reentrene el modelo y comente su desempeño."
   ]
  },
  {
   "cell_type": "code",
   "execution_count": 32,
   "metadata": {},
   "outputs": [
    {
     "data": {
      "text/plain": [
       "70"
      ]
     },
     "execution_count": 32,
     "metadata": {},
     "output_type": "execute_result"
    }
   ],
   "source": [
    "n_estimatos[mse_log2.index(min(mse_log2))]"
   ]
  },
  {
   "cell_type": "code",
   "execution_count": 38,
   "metadata": {},
   "outputs": [],
   "source": [
    "modelo_rf2 = RandomForestRegressor(\n",
    "            random_state=seed, \n",
    "            n_estimators= 70,\n",
    "            max_features='log2', \n",
    "        ).fit(X_train_ag, y_train_ag)"
   ]
  },
  {
   "cell_type": "code",
   "execution_count": 39,
   "metadata": {},
   "outputs": [
    {
     "name": "stdout",
     "output_type": "stream",
     "text": [
      "Test MSE: 1597735060.44045\n",
      "Test MAE: 16171.58571\n",
      "Test R2: 0.78127\n"
     ]
    }
   ],
   "source": [
    "print(\"Test MSE:\", mean_squared_error(y_test_ag, modelo_rf2.predict(X_test_ag)).round(5))\n",
    "print(\"Test MAE:\", median_absolute_error(y_test_ag, modelo_rf2.predict(X_test_ag)).round(5))\n",
    "print(\"Test R2:\", r2_score(y_test_ag, modelo_rf2.predict(X_test_ag)).round(5))"
   ]
  },
  {
   "cell_type": "markdown",
   "metadata": {},
   "source": [
    "- El modelo mejoró respecto del modelo Random Forest sin Hiperparámetros\n"
   ]
  },
  {
   "cell_type": "code",
   "execution_count": null,
   "metadata": {},
   "outputs": [],
   "source": []
  }
 ],
 "metadata": {
  "kernelspec": {
   "display_name": "Python 3",
   "language": "python",
   "name": "python3"
  }
 },
 "nbformat": 4,
 "nbformat_minor": 2
}
